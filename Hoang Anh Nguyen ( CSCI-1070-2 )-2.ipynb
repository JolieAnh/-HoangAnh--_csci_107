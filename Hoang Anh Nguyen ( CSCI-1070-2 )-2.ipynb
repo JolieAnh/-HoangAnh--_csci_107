{
 "cells": [
  {
   "cell_type": "markdown",
   "metadata": {
    "id": "4wgS2TvbpQlO"
   },
   "source": [
    "1. How can you get more information about a function or an object from inside a jupyter cell?"
   ]
  },
  {
   "cell_type": "markdown",
   "metadata": {
    "id": "a7XEIFA2pQlM"
   },
   "source": [
    "### Homework 1\n",
    "\n",
    "Skim this Homework before you do your reading assignments. It will help focus your attention.\n",
    "\n",
    "Provide written answers to questions with a `#comment`.\n",
    "\n",
    "Answer the following question **first**. The rest may be completed in any order.\n",
    "\n",
    "Please note: I hope this assignment gets you to tinker with Python. I learn a lot by playing around, and it is important to me that you eventually do too!"
   ]
  },
  {
   "cell_type": "code",
   "execution_count": null,
   "metadata": {
    "id": "tSk74nLcpQlP"
   },
   "outputs": [],
   "source": [
    "# using the 'help' function"
   ]
  },
  {
   "cell_type": "code",
   "execution_count": null,
   "metadata": {
    "id": "lxpnVhULpZbL"
   },
   "outputs": [],
   "source": [
    "# using ' dir' function"
   ]
  },
  {
   "cell_type": "markdown",
   "metadata": {
    "id": "mdVE_ZYGpQlQ"
   },
   "source": [
    "2. How can you determine the data type of an object?"
   ]
  },
  {
   "cell_type": "code",
   "execution_count": null,
   "metadata": {
    "id": "fiMRU5UEpQlR"
   },
   "outputs": [],
   "source": [
    "# i can determine the data type of an object by using the ' type()' function"
   ]
  },
  {
   "cell_type": "markdown",
   "metadata": {
    "id": "622FTPM7pQlR"
   },
   "source": [
    "3. Assign a variable named `foo` and give it a value of `'bar'`. What does assignment mean?"
   ]
  },
  {
   "cell_type": "code",
   "execution_count": null,
   "metadata": {
    "id": "h8LSzyuupQlR"
   },
   "outputs": [],
   "source": [
    "# this assignment means that, we are storing value 'bar' in variable 'foo'. whenever i use 'foo' in code, it will refer to value ' bar '"
   ]
  },
  {
   "cell_type": "markdown",
   "metadata": {
    "id": "Mmh3gUFbpQlR"
   },
   "source": [
    "4. You have an assortment of items you will need to keep track of. What would be a good data structure to keep them in? Provide an example."
   ]
  },
  {
   "cell_type": "code",
   "execution_count": null,
   "metadata": {
    "id": "e292yI60pQlS"
   },
   "outputs": [],
   "source": [
    "# set is a good data structure for an assortment of items since it do not need to be placed in ordered.\n",
    "fruit = {\"apple\",\"banana\",\"orange\"}"
   ]
  },
  {
   "cell_type": "markdown",
   "metadata": {
    "id": "IOvtPfZZpQlS"
   },
   "source": [
    "5. You have an assortment of names and telephone numbers. What might be a good data structure to keep them in? Show an example."
   ]
  },
  {
   "cell_type": "code",
   "execution_count": null,
   "metadata": {
    "colab": {
     "base_uri": "https://localhost:8080/"
    },
    "id": "-tUZpNQ_pQlS",
    "outputId": "3710c053-a03a-4dd2-8091-59258a3ce952"
   },
   "outputs": [
    {
     "name": "stdout",
     "output_type": "stream",
     "text": [
      "{'mom': '0000001', 'dad': '1111111', 'friend': '3333'}\n"
     ]
    }
   ],
   "source": [
    "# dictionary is a good data structure for keys ( names ) and value ( phone numbers )\n",
    "phonebook = {\"mom\": \"0000001\",\n",
    "             \"dad\": \"1111111\",\n",
    "             \"friend\": \"3333\"}\n",
    "print(phonebook)"
   ]
  },
  {
   "cell_type": "markdown",
   "metadata": {
    "id": "kvj256TSpQlT"
   },
   "source": [
    "6. You need to create a copy of an important list and alter the copy. Why is the following code a bad idea?"
   ]
  },
  {
   "cell_type": "code",
   "execution_count": null,
   "metadata": {
    "id": "BHCxdQTipQlT"
   },
   "outputs": [],
   "source": [
    "list1 = [1,2,3]\n",
    "list2 = list1\n",
    "list2[0]= 9"
   ]
  },
  {
   "cell_type": "code",
   "execution_count": null,
   "metadata": {
    "colab": {
     "base_uri": "https://localhost:8080/"
    },
    "id": "13mCZwQapQlU",
    "outputId": "810badfc-9d56-4243-d653-22decab42012"
   },
   "outputs": [
    {
     "name": "stdout",
     "output_type": "stream",
     "text": [
      "[9, 2, 3]\n",
      "[1, 2, 3]\n"
     ]
    }
   ],
   "source": [
    "# this is a bad idea because the code 'list2 = list 1' does not create a copy of list 1. it is just a reference of list 1\n",
    "# so if we alter list 2, we will alter list 1 too\n",
    "# instead, we can use ' list 2 = list 1.copy()\n",
    "# by this way, we will create a copy of list 1.\n",
    "list1 = [1,2,3]\n",
    "list2 = list1.copy()\n",
    "list2[0]=9\n",
    "print(list2)\n",
    "print(list1)\n"
   ]
  },
  {
   "cell_type": "markdown",
   "metadata": {
    "id": "0lLDqWnbpQlU"
   },
   "source": [
    "7. What is truthy and falsey? Provide a list example and a string example."
   ]
  },
  {
   "cell_type": "markdown",
   "metadata": {
    "id": "2f5lRqbmb11s"
   },
   "source": []
  },
  {
   "cell_type": "code",
   "execution_count": null,
   "metadata": {
    "colab": {
     "base_uri": "https://localhost:8080/"
    },
    "id": "UTHSsLPhcDwf",
    "outputId": "599d6f4d-b8d7-4f85-93bd-106a2332ca7b"
   },
   "outputs": [
    {
     "name": "stdout",
     "output_type": "stream",
     "text": [
      "this string is falsey\n"
     ]
    }
   ],
   "source": [
    "user_name = \"\"\n",
    "if user_name:\n",
    "   print(\"wellcome\")\n",
    "else:\n",
    "   print(\"this string is falsey\")"
   ]
  },
  {
   "cell_type": "code",
   "execution_count": null,
   "metadata": {
    "colab": {
     "base_uri": "https://localhost:8080/"
    },
    "id": "9dhFVH0Rb3Zp",
    "outputId": "d63d0341-1da4-4d41-8883-88b064a547af"
   },
   "outputs": [
    {
     "name": "stdout",
     "output_type": "stream",
     "text": [
      "this list is truthy\n"
     ]
    }
   ],
   "source": [
    "fruit = [1,2,3,4,5,6]\n",
    "if fruit:\n",
    "   print(\"this list is truthy\")\n",
    "else:\n",
    "   print(\"ok\")"
   ]
  },
  {
   "cell_type": "code",
   "execution_count": null,
   "metadata": {
    "colab": {
     "base_uri": "https://localhost:8080/"
    },
    "id": "3eYEapC9cLdM",
    "outputId": "110172ce-c85a-41ae-898f-0543090c2aff"
   },
   "outputs": [
    {
     "name": "stdout",
     "output_type": "stream",
     "text": [
      "this string is truthy\n"
     ]
    }
   ],
   "source": [
    "user_name = \"Jolie\"\n",
    "if user_name:\n",
    "    print(\"this string is truthy\")\n",
    "else:\n",
    "    print(\"this is falsey\")"
   ]
  },
  {
   "cell_type": "code",
   "execution_count": null,
   "metadata": {
    "colab": {
     "base_uri": "https://localhost:8080/"
    },
    "id": "hW4yjo85pQlV",
    "outputId": "f58c18ce-eb9e-45e2-9c53-f24b58770409"
   },
   "outputs": [
    {
     "name": "stdout",
     "output_type": "stream",
     "text": [
      "this list is falsey\n"
     ]
    }
   ],
   "source": [
    "# truthy and falsey is when values are evaluated in boolen context.\n",
    "# truthy: value which is evaluated as true\n",
    "# falsey: value which is evaluated as false\n",
    "fruit = []\n",
    "if fruit:\n",
    "   print(\"ok\")\n",
    "else:\n",
    "  print(\"this list is falsey\")\n",
    "\n",
    "\n",
    "\n",
    "\n",
    "\n",
    "\n"
   ]
  },
  {
   "cell_type": "markdown",
   "metadata": {
    "id": "3ljcmIhMpQlV"
   },
   "source": [
    "8. What is the difference between a dynamically typed and statically typed language?\n",
    "\n",
    "Which one is python?\n",
    "\n",
    "When is that a good thing?\n",
    "\n",
    "When is that a bad thing?"
   ]
  },
  {
   "cell_type": "code",
   "execution_count": null,
   "metadata": {
    "id": "JkxidYi2pQlW"
   },
   "outputs": [],
   "source": [
    "\n",
    "# in dynamically typed language, the type of a variable determined at a runtime, not before the code.\n",
    "# in statically typed language, the type of a variable determined at compile time before the code runs.\n",
    "# Python is dynamically typed language, it means that we can assign value to a variable when we create it without declare it before.\n",
    "#Good thing when: we do not need to worry too much about the decleration of the type of the variable, making it easier, quicker to write and read.\n",
    "                  #help us create codes that easily work with different data.\n",
    "#Bad thing when: with statically typed language, errors can be caught druing compile time while with dynamically typed language errors will only be caught when running the codes, which lead to more running bugs\n",
    "                 # dynamically typed language is slower than the other since it have to check the type at run time\n",
    "                #in larger database, it is hard to maintain dynamically typed language as we can not always tell what type of a variable,thus causing confusion ."
   ]
  },
  {
   "cell_type": "markdown",
   "metadata": {
    "id": "hsjobrVcpQlW"
   },
   "source": [
    "9. Here is a [link](https://docs.python.org/3/library/functions.html) to the python `built-in functions`. Choose 2 and give an example of how to use them."
   ]
  },
  {
   "cell_type": "code",
   "execution_count": null,
   "metadata": {
    "colab": {
     "base_uri": "https://localhost:8080/"
    },
    "id": "RGlB6mmycYx0",
    "outputId": "dff60490-ade2-46cc-d76b-e4adeca044d1"
   },
   "outputs": [
    {
     "name": "stdout",
     "output_type": "stream",
     "text": [
      "[2, 4, 6, 8]\n"
     ]
    }
   ],
   "source": [
    "#'filter' function used to filter chosen elements from a list or turple\n",
    "def is_even(num):\n",
    "  return num % 2 == 0\n",
    "\n",
    "numbers = [1,2,3,4,5,6,7,8]\n",
    "even_numbers = filter(is_even, numbers)\n",
    "print(list(even_numbers))"
   ]
  },
  {
   "cell_type": "code",
   "execution_count": null,
   "metadata": {
    "colab": {
     "base_uri": "https://localhost:8080/"
    },
    "id": "i2fAYwyFpQlX",
    "outputId": "8b8ed604-eb64-4499-cd43-643b7c8f30c0"
   },
   "outputs": [
    {
     "name": "stdout",
     "output_type": "stream",
     "text": [
      "<class 'str'>\n"
     ]
    }
   ],
   "source": [
    "#'type()' function used to know the type of an object\n",
    "x = \"hello\"\n",
    "print(type(x))"
   ]
  },
  {
   "cell_type": "markdown",
   "metadata": {
    "id": "A6TMhbEVpQlX"
   },
   "source": [
    "10. I need to know if an integer is odd or even. What `operator` might help me do that? Provide an example."
   ]
  },
  {
   "cell_type": "code",
   "execution_count": null,
   "metadata": {
    "colab": {
     "base_uri": "https://localhost:8080/"
    },
    "id": "NzEDa_FTpQlX",
    "outputId": "7c8d4c06-d2c0-45b0-f189-9b38767418b1"
   },
   "outputs": [
    {
     "name": "stdout",
     "output_type": "stream",
     "text": [
      "odd\n"
     ]
    }
   ],
   "source": [
    "# to know if an interger is odd or even, we can use the modulus operator '%'\n",
    "# if 'number % 2 == 0', even\n",
    "# if 'number % 2 == 1', odd\n",
    "\n",
    "x=3\n",
    "if x % 2 == 0:\n",
    "  print(\"even\")\n",
    "else:\n",
    "   print(\"odd\")"
   ]
  },
  {
   "cell_type": "markdown",
   "metadata": {
    "id": "wrqVbAHppQlY"
   },
   "source": [
    "11. What is a python expression? What does an expression evalute to?"
   ]
  },
  {
   "cell_type": "code",
   "execution_count": null,
   "metadata": {
    "id": "UKgC3Ak4pQlY"
   },
   "outputs": [],
   "source": [
    "# python expression is a combination of variables, values, operators and functions calls that can be evaluated to produce a result.\n",
    "# an expression in Python evaluate a value, result."
   ]
  },
  {
   "cell_type": "markdown",
   "metadata": {
    "id": "UthwDrqvpQlY"
   },
   "source": [
    "12. Provide an expression that evaluates which variable is greater."
   ]
  },
  {
   "cell_type": "code",
   "execution_count": null,
   "metadata": {
    "colab": {
     "base_uri": "https://localhost:8080/"
    },
    "id": "OvUoYTQ3pQlZ",
    "outputId": "ae8251b6-b031-40d4-dda1-b2c98d26841c"
   },
   "outputs": [
    {
     "name": "stdout",
     "output_type": "stream",
     "text": [
      "bar is greater than foo\n"
     ]
    }
   ],
   "source": [
    "foo = 23\n",
    "bar = 48\n",
    "\n",
    "if foo > bar:\n",
    " print(\"foo is greater than bar\")\n",
    "elif bar > foo:\n",
    " print (\"bar is greater than foo\")\n",
    "else:\n",
    " print (\"bar is equal foo\")\n"
   ]
  },
  {
   "cell_type": "markdown",
   "metadata": {
    "id": "3PSX6v6CpQla"
   },
   "source": [
    "13. Provide an if statement (inside the provided for loop) that prints 'even' if the number is even, 'odd' if the number is odd, and 'three' if the number is 3."
   ]
  },
  {
   "cell_type": "code",
   "execution_count": null,
   "metadata": {
    "colab": {
     "base_uri": "https://localhost:8080/"
    },
    "id": "w_ZpGvsfpQla",
    "outputId": "036462e2-100f-44dc-f6f5-aeb5398aa462"
   },
   "outputs": [
    {
     "name": "stdout",
     "output_type": "stream",
     "text": [
      "odd\n",
      "even\n",
      "three\n",
      "even\n",
      "odd\n",
      "even\n",
      "odd\n",
      "even\n",
      "odd\n"
     ]
    }
   ],
   "source": [
    "my_list = [1,2,3,4,5,6,7,8,9]\n",
    "for i in my_list:\n",
    " if i == 3:\n",
    "  print (\"three\")\n",
    " elif i % 2 == 0:\n",
    "  print (\"even\")\n",
    " else:\n",
    "  print (\"odd\")"
   ]
  },
  {
   "cell_type": "markdown",
   "metadata": {
    "id": "Sy1qfr0WpQla"
   },
   "source": [
    "14. What is the less than equal to operator? And show an example of how it is used."
   ]
  },
  {
   "cell_type": "code",
   "execution_count": null,
   "metadata": {
    "colab": {
     "base_uri": "https://localhost:8080/"
    },
    "id": "FcFabYtGpQla",
    "outputId": "476298bd-01ca-4b00-f55f-238a7362d05a"
   },
   "outputs": [
    {
     "name": "stdout",
     "output_type": "stream",
     "text": [
      "10\n"
     ]
    }
   ],
   "source": [
    "# the less than equal to operator: ' <= '\n",
    "Computer_science_Grade = 10\n",
    "if Computer_science_Grade <= 10:\n",
    "  print(\"10\")\n",
    "else:\n",
    "  print(\"fail\")"
   ]
  },
  {
   "cell_type": "markdown",
   "metadata": {
    "id": "FlKx5fHepQla"
   },
   "source": [
    "15. What is the floored division operator? And show an example of how it is used."
   ]
  },
  {
   "cell_type": "code",
   "execution_count": null,
   "metadata": {
    "colab": {
     "base_uri": "https://localhost:8080/"
    },
    "id": "LRuDUTaDpQlb",
    "outputId": "908d335f-6fea-44f8-d34f-1832471624b0"
   },
   "outputs": [
    {
     "name": "stdout",
     "output_type": "stream",
     "text": [
      "0\n"
     ]
    }
   ],
   "source": [
    "#the floored division operator is '//'\n",
    "x = 3\n",
    "y = 5\n",
    "result = x // y\n",
    "print (result)"
   ]
  },
  {
   "cell_type": "markdown",
   "metadata": {
    "id": "k1DzNo4-pQlb"
   },
   "source": [
    "16. Why does the following give an error? Show an example of how to fix it."
   ]
  },
  {
   "cell_type": "markdown",
   "metadata": {
    "id": "MrnYpTD__vqE"
   },
   "source": []
  },
  {
   "cell_type": "code",
   "execution_count": null,
   "metadata": {
    "id": "zWxkrPBwpQlb",
    "outputId": "a43a493a-a968-4918-a57d-a096409d77dc"
   },
   "outputs": [
    {
     "ename": "SyntaxError",
     "evalue": "invalid decimal literal (445552376.py, line 1)",
     "output_type": "error",
     "traceback": [
      "\u001b[0;36m  Cell \u001b[0;32mIn[1], line 1\u001b[0;36m\u001b[0m\n\u001b[0;31m    2cars = ('Ferarri', 'Mustang')\u001b[0m\n\u001b[0m    ^\u001b[0m\n\u001b[0;31mSyntaxError\u001b[0m\u001b[0;31m:\u001b[0m invalid decimal literal\n"
     ]
    }
   ],
   "source": [
    "2cars = ('Ferarri', 'Mustang')"
   ]
  },
  {
   "cell_type": "code",
   "execution_count": null,
   "metadata": {
    "id": "09Uifx90pQlb"
   },
   "outputs": [],
   "source": [
    "cars = ('Ferarri', 'Mustang')\n",
    "# in order a variable in Python, we can not start with a digit."
   ]
  },
  {
   "cell_type": "markdown",
   "metadata": {
    "id": "24LcrW2rpQlb"
   },
   "source": [
    "17. Why does this if statement evaluate to true and do what's in the if body?\n",
    "You will see this shortcut a lot and it can be confusing as to what is going on."
   ]
  },
  {
   "cell_type": "code",
   "execution_count": null,
   "metadata": {
    "id": "_yb6x_3KpQlc",
    "outputId": "a8350596-bfa7-4c31-f514-b657ec93fbbe"
   },
   "outputs": [
    {
     "name": "stdout",
     "output_type": "stream",
     "text": [
      "Hooray!\n"
     ]
    }
   ],
   "source": [
    "some_list = ['fizz','buzz',1,{'key':'value'}]\n",
    "\n",
    "if some_list:\n",
    "    print('Hooray!')"
   ]
  },
  {
   "cell_type": "code",
   "execution_count": null,
   "metadata": {
    "id": "EZSmvGaepQlc"
   },
   "outputs": [],
   "source": [
    "# because with if statement, a non empty list is considered true. so it will print Hooray!"
   ]
  },
  {
   "cell_type": "markdown",
   "metadata": {
    "id": "Efrt-Rq0pQlc"
   },
   "source": [
    "18. Write an expression that raises one number to the power of 3."
   ]
  },
  {
   "cell_type": "code",
   "execution_count": null,
   "metadata": {
    "colab": {
     "base_uri": "https://localhost:8080/"
    },
    "id": "9DtPaTp2pQlc",
    "outputId": "284a1196-107f-4ca4-e7bf-1d22d5438342"
   },
   "outputs": [
    {
     "name": "stdout",
     "output_type": "stream",
     "text": [
      "27\n"
     ]
    }
   ],
   "source": [
    "# an expression that raises one number to the power of 3 '**'\n",
    "x = 3\n",
    "result = x ** 3\n",
    "print(result)"
   ]
  },
  {
   "cell_type": "markdown",
   "metadata": {
    "id": "H3fB-NMwpQld"
   },
   "source": [
    "19. How can you change `my_var` form an `int` to a `str`?"
   ]
  },
  {
   "cell_type": "code",
   "execution_count": null,
   "metadata": {
    "id": "J8b4NEU0pQld"
   },
   "outputs": [],
   "source": [
    "my_var = 42"
   ]
  },
  {
   "cell_type": "code",
   "execution_count": null,
   "metadata": {
    "colab": {
     "base_uri": "https://localhost:8080/"
    },
    "id": "P_LlRQYSpQld",
    "outputId": "aa73545c-b493-42b8-adaa-99f7aeba35b4"
   },
   "outputs": [
    {
     "name": "stdout",
     "output_type": "stream",
     "text": [
      "42\n",
      "<class 'str'>\n"
     ]
    }
   ],
   "source": [
    "# to change ' my_var' from an 'int' to a 'string'. we can use 'str()' function.\n",
    "my_var = 42\n",
    "my_var = str(my_var)\n",
    "print(my_var)\n",
    "print(type(my_var))"
   ]
  },
  {
   "cell_type": "markdown",
   "metadata": {
    "id": "8D1oKe-ppQld"
   },
   "source": [
    "20. Slice `some_string` to only include the words `lazy`."
   ]
  },
  {
   "cell_type": "code",
   "execution_count": null,
   "metadata": {
    "id": "8q1bH0BJpQld"
   },
   "outputs": [],
   "source": [
    "some_string = \"The quick brown fox jumped over the lazy dog.\""
   ]
  },
  {
   "cell_type": "code",
   "execution_count": null,
   "metadata": {
    "id": "_-Q7SPnjKuXY"
   },
   "outputs": [],
   "source": []
  },
  {
   "cell_type": "code",
   "execution_count": null,
   "metadata": {
    "colab": {
     "base_uri": "https://localhost:8080/"
    },
    "id": "dWrRYqAOpQld",
    "outputId": "06fcae5c-7b04-4cb8-ab5d-9c4b5906ec69"
   },
   "outputs": [
    {
     "name": "stdout",
     "output_type": "stream",
     "text": [
      "lazy\n"
     ]
    }
   ],
   "source": [
    "some_string = \"The quick brown fox jumped over the lazy dog.\"\n",
    "start_index = some_string.find(\"lazy\")\n",
    "word_length = len(\"lazy\")\n",
    "sliced_string = some_string[start_index:start_index + word_length]\n",
    "print(sliced_string)"
   ]
  },
  {
   "cell_type": "markdown",
   "metadata": {
    "id": "yFB8smCzpQle"
   },
   "source": [
    "21. Assign a new variable `sport` to the 3rd element in the list."
   ]
  },
  {
   "cell_type": "code",
   "execution_count": null,
   "metadata": {
    "id": "zBUK0qK7pQle"
   },
   "outputs": [],
   "source": [
    "my_favorite_teams= ['Chiefs', 'Cardinals', 'Blues', 'Lakers','Manchester United', 'Couch Surfing']"
   ]
  },
  {
   "cell_type": "code",
   "execution_count": null,
   "metadata": {
    "colab": {
     "base_uri": "https://localhost:8080/"
    },
    "id": "N7zcX-nUpQle",
    "outputId": "94976080-8a4e-433d-e1ee-1dca84dc445a"
   },
   "outputs": [
    {
     "name": "stdout",
     "output_type": "stream",
     "text": [
      "Blues\n"
     ]
    }
   ],
   "source": [
    "my_favorite_teams= ['Chiefs', 'Cardinals', 'Blues', 'Lakers','Manchester United', 'Couch Surfing']\n",
    "sport = my_favorite_teams[2]\n",
    "print(sport)"
   ]
  },
  {
   "cell_type": "markdown",
   "metadata": {
    "id": "AxdoYfSGpQle"
   },
   "source": [
    "22. What is the use case for the `dir()` method?"
   ]
  },
  {
   "cell_type": "code",
   "execution_count": null,
   "metadata": {
    "colab": {
     "base_uri": "https://localhost:8080/"
    },
    "id": "POFmM5xepQle",
    "outputId": "0957d27e-4ac1-40fe-e6e7-3f2be014193a"
   },
   "outputs": [
    {
     "name": "stdout",
     "output_type": "stream",
     "text": [
      "['__add__', '__class__', '__class_getitem__', '__contains__', '__delattr__', '__delitem__', '__dir__', '__doc__', '__eq__', '__format__', '__ge__', '__getattribute__', '__getitem__', '__gt__', '__hash__', '__iadd__', '__imul__', '__init__', '__init_subclass__', '__iter__', '__le__', '__len__', '__lt__', '__mul__', '__ne__', '__new__', '__reduce__', '__reduce_ex__', '__repr__', '__reversed__', '__rmul__', '__setattr__', '__setitem__', '__sizeof__', '__str__', '__subclasshook__', 'append', 'clear', 'copy', 'count', 'extend', 'index', 'insert', 'pop', 'remove', 'reverse', 'sort']\n"
     ]
    }
   ],
   "source": [
    "# we can use 'dir()' to get information about the attributes ( variables ) of an object or a module\n",
    "# which methods can be used to an object or a module.\n",
    "fruit = ['orange', 'apple', 'lime']\n",
    "print(dir(fruit))"
   ]
  },
  {
   "cell_type": "markdown",
   "metadata": {
    "id": "LubCygowpQle"
   },
   "source": [
    "23. (3 pts) Write a function that takes in a number and doubles it."
   ]
  },
  {
   "cell_type": "code",
   "execution_count": null,
   "metadata": {
    "colab": {
     "base_uri": "https://localhost:8080/"
    },
    "id": "SuzQ1rr6pQle",
    "outputId": "8fbcdce4-5b69-4c5c-df13-6ab21050c90d"
   },
   "outputs": [
    {
     "name": "stdout",
     "output_type": "stream",
     "text": [
      "10\n"
     ]
    }
   ],
   "source": [
    "# a function that takes in a number and doubles it.\n",
    "def double_number(num):\n",
    "   return num * 2\n",
    "result = double_number(5)\n",
    "print(result)"
   ]
  },
  {
   "cell_type": "markdown",
   "metadata": {
    "id": "KPp_L4gSaH39"
   },
   "source": []
  },
  {
   "cell_type": "markdown",
   "metadata": {
    "id": "jtaYzulCpQle"
   },
   "source": [
    "Bonus (2 pts): Iterate through integers_list and print values that are multiples of 7."
   ]
  },
  {
   "cell_type": "code",
   "execution_count": null,
   "metadata": {
    "colab": {
     "base_uri": "https://localhost:8080/"
    },
    "id": "GjI4keNNpQlf",
    "outputId": "07a420fc-3369-4030-c2e2-58ac3d1e1fe2"
   },
   "outputs": [
    {
     "name": "stdout",
     "output_type": "stream",
     "text": [
      "308\n",
      "427\n",
      "273\n",
      "672\n",
      "238\n",
      "924\n",
      "42\n"
     ]
    }
   ],
   "source": [
    "import random\n",
    "integers_list = [random.randint(0,1000) for i in range(50)] # a list comprehension\n",
    "\n",
    "import random\n",
    "\n",
    "integers_list = [random.randint(0, 1000) for i in range(50)]\n",
    "\n",
    "for number in integers_list:\n",
    "\n",
    "  if number % 7 == 0:\n",
    "\n",
    "    print(number)\n"
   ]
  }
 ],
 "metadata": {
  "colab": {
   "provenance": []
  },
  "kernelspec": {
   "display_name": "Python 3 (ipykernel)",
   "language": "python",
   "name": "python3"
  },
  "language_info": {
   "codemirror_mode": {
    "name": "ipython",
    "version": 3
   },
   "file_extension": ".py",
   "mimetype": "text/x-python",
   "name": "python",
   "nbconvert_exporter": "python",
   "pygments_lexer": "ipython3",
   "version": "3.12.5"
  }
 },
 "nbformat": 4,
 "nbformat_minor": 4
}
